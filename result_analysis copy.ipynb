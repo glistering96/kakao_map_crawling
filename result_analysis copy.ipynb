{
 "cells": [
  {
   "cell_type": "code",
   "execution_count": 12,
   "metadata": {},
   "outputs": [],
   "source": [
    "import math\n",
    "\n",
    "\n",
    "def compound_interest(principal, rate, months):\n",
    "    return round(principal * (1 + rate) ** (months / 12), 0)\n",
    "\n",
    "def additive_compound_interest(principal, addition, r, months):\n",
    "    principal_part = principal * (1 + r/12) ** months\n",
    "    addition_part = addition / (r/12) * ((1+r/12)**months - 1)\n",
    "    return round(principal_part + addition_part, 2)"
   ]
  },
  {
   "cell_type": "code",
   "execution_count": 13,
   "metadata": {},
   "outputs": [
    {
     "name": "stdout",
     "output_type": "stream",
     "text": [
      "Compound interest: 39343027.0\n",
      "Additive compound interest: 213278034.97\n"
     ]
    }
   ],
   "source": [
    "principal = 20_000_000\n",
    "addition = 1_000_000\n",
    "r = 0.07    # 7%\n",
    "months = 10*12   # 10 years\n",
    "\n",
    "print(f\"Compound interest: {compound_interest(principal, r, months)}\")\n",
    "print(f\"Additive compound interest: {additive_compound_interest(principal, addition, r, months)}\")\n"
   ]
  },
  {
   "cell_type": "code",
   "execution_count": null,
   "metadata": {},
   "outputs": [],
   "source": [
    "P + A / R\n",
    "(0 + P) + (A/2 + A /2) / R"
   ]
  }
 ],
 "metadata": {
  "kernelspec": {
   "display_name": ".venv",
   "language": "python",
   "name": "python3"
  },
  "language_info": {
   "codemirror_mode": {
    "name": "ipython",
    "version": 3
   },
   "file_extension": ".py",
   "mimetype": "text/x-python",
   "name": "python",
   "nbconvert_exporter": "python",
   "pygments_lexer": "ipython3",
   "version": "3.9.11"
  }
 },
 "nbformat": 4,
 "nbformat_minor": 2
}
